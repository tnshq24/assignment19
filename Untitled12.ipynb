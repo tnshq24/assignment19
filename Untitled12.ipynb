{
 "cells": [
  {
   "cell_type": "code",
   "execution_count": 1,
   "id": "48aafb3f-4724-4200-9022-daf53c189540",
   "metadata": {},
   "outputs": [],
   "source": [
    "#Q1\n",
    "# Statistics is pieces of information or facts through which we can determine\n",
    "# our some meaningful insights."
   ]
  },
  {
   "cell_type": "code",
   "execution_count": 3,
   "id": "749d1b9a-f484-4197-b02e-ea36c04500ca",
   "metadata": {},
   "outputs": [],
   "source": [
    "#Q2\n",
    "# Statistics is of two types:-\n",
    "# Descriptive statistics : In this statistics area we exctract the information\n",
    "# on the basis of central tendancy, which includes mean, median, mode\n",
    "\n",
    "# Inference statistics : In this statistics we conclude something on the basis of \n",
    "# given population data"
   ]
  },
  {
   "cell_type": "code",
   "execution_count": 4,
   "id": "4435510b-72c5-4fb0-80fd-bed4c60f1b2f",
   "metadata": {},
   "outputs": [],
   "source": [
    "#Q3\n",
    "# There are two types of data:-\n",
    "# Quantitative : In this the data is usually numbers, which are of two types,\n",
    "# discrete and continuous. ex: 4 boys, 6.2 kms, 8 cars\n",
    "\n",
    "# Qualitative : In this the data is categorical, which are of two types,\n",
    "# nominal and ordinal. ex: male, new york, peas"
   ]
  },
  {
   "cell_type": "code",
   "execution_count": 5,
   "id": "9fcc21fe-25fa-4bbc-961f-cbb0659b04a3",
   "metadata": {},
   "outputs": [],
   "source": [
    "#Q4\n",
    "# Grading in exam: A+, A, B+, B, C+, C, D, E is Qualitative\n",
    "# Colour of mangoes: yellow, green, orange, red is Qualitative\n",
    "# Height data of a class: [178.9, 179, 179.5, 176, 177.2, 178.3, 175.8,...] is Quantitative\n",
    "# Number of mangoes exported by a farm: [500, 600, 478, 672, ...] is quantitative"
   ]
  },
  {
   "cell_type": "code",
   "execution_count": 8,
   "id": "2ece155e-0135-4b37-a2c5-e45fe1d1ac0e",
   "metadata": {},
   "outputs": [],
   "source": [
    "#Q7\n",
    "# Nominal data cannot be compared and cannot be considered higher or lower \n",
    "# in quality whereas ordinal data can be compared and can be considered as\n",
    "# higher or lower in quality of on the basis of comparison."
   ]
  },
  {
   "cell_type": "code",
   "execution_count": 9,
   "id": "b9387fa0-c891-4c31-949c-529018baee66",
   "metadata": {},
   "outputs": [],
   "source": [
    "#Q9 \n",
    "# Statistics is of two types:-\n",
    "# Descriptive statistics : In this statistics area we exctract the information\n",
    "# on the basis of central tendancy, which includes mean, median, mode\n",
    "\n",
    "# Inference statistics : In this statistics we conclude something on the basis of \n",
    "# given population data"
   ]
  },
  {
   "cell_type": "code",
   "execution_count": 11,
   "id": "88ac44ae-952f-489c-bf12-e1f0b1c34b5e",
   "metadata": {},
   "outputs": [],
   "source": [
    "#Q10\n",
    "# Central tendancy and variable statistics gives a brief description about\n",
    "# the data which includes like mean, median and mode."
   ]
  }
 ],
 "metadata": {
  "kernelspec": {
   "display_name": "Python 3 (ipykernel)",
   "language": "python",
   "name": "python3"
  },
  "language_info": {
   "codemirror_mode": {
    "name": "ipython",
    "version": 3
   },
   "file_extension": ".py",
   "mimetype": "text/x-python",
   "name": "python",
   "nbconvert_exporter": "python",
   "pygments_lexer": "ipython3",
   "version": "3.10.8"
  }
 },
 "nbformat": 4,
 "nbformat_minor": 5
}
